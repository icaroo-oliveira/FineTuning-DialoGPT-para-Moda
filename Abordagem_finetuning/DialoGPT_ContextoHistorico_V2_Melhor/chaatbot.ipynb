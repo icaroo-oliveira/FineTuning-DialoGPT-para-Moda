{
  "cells": [
    {
      "cell_type": "code",
      "execution_count": null,
      "id": "c67f6fef",
      "metadata": {
        "execution": {
          "iopub.execute_input": "2025-02-12T23:34:33.107559Z",
          "iopub.status.busy": "2025-02-12T23:34:33.107275Z",
          "iopub.status.idle": "2025-02-12T23:34:37.478449Z",
          "shell.execute_reply": "2025-02-12T23:34:37.477348Z",
          "shell.execute_reply.started": "2025-02-12T23:34:33.107528Z"
        },
        "id": "c67f6fef",
        "papermill": {
          "duration": 5.26235,
          "end_time": "2025-02-10T05:32:33.232486",
          "exception": false,
          "start_time": "2025-02-10T05:32:27.970136",
          "status": "completed"
        },
        "tags": [],
        "trusted": true
      },
      "outputs": [],
      "source": [
        "! pip -q install transformers"
      ]
    },
    {
      "cell_type": "code",
      "execution_count": null,
      "id": "0ce2887e",
      "metadata": {
        "execution": {
          "iopub.execute_input": "2025-02-12T23:34:37.480005Z",
          "iopub.status.busy": "2025-02-12T23:34:37.479658Z",
          "iopub.status.idle": "2025-02-12T23:35:00.412196Z",
          "shell.execute_reply": "2025-02-12T23:35:00.411531Z",
          "shell.execute_reply.started": "2025-02-12T23:34:37.479955Z"
        },
        "id": "0ce2887e",
        "outputId": "d69b4cca-975c-4bcf-c47a-79d5e05697fd",
        "papermill": {
          "duration": 36.932501,
          "end_time": "2025-02-10T05:33:14.033674",
          "exception": false,
          "start_time": "2025-02-10T05:32:37.101173",
          "status": "completed"
        },
        "tags": [],
        "trusted": true,
        "colab": {
          "referenced_widgets": [
            "2eec03bff83e4eb881a38959661fbe66",
            "c208f3a744aa492fbf64bc3978870c70",
            "9864a46254a1431fbae1cf821b1c6b66"
          ]
        }
      },
      "outputs": [
        {
          "data": {
            "application/vnd.jupyter.widget-view+json": {
              "model_id": "2eec03bff83e4eb881a38959661fbe66",
              "version_major": 2,
              "version_minor": 0
            },
            "text/plain": [
              "tokenizer_config.json:   0%|          | 0.00/614 [00:00<?, ?B/s]"
            ]
          },
          "metadata": {},
          "output_type": "display_data"
        },
        {
          "data": {
            "application/vnd.jupyter.widget-view+json": {
              "model_id": "c208f3a744aa492fbf64bc3978870c70",
              "version_major": 2,
              "version_minor": 0
            },
            "text/plain": [
              "vocab.json:   0%|          | 0.00/1.04M [00:00<?, ?B/s]"
            ]
          },
          "metadata": {},
          "output_type": "display_data"
        },
        {
          "data": {
            "application/vnd.jupyter.widget-view+json": {
              "model_id": "9864a46254a1431fbae1cf821b1c6b66",
              "version_major": 2,
              "version_minor": 0
            },
            "text/plain": [
              "merges.txt:   0%|          | 0.00/456k [00:00<?, ?B/s]"
            ]
          },
          "metadata": {},
          "output_type": "display_data"
        }
      ],
      "source": [
        "\n",
        "from transformers import AutoModelForCausalLM, AutoTokenizer, Trainer, TrainingArguments\n",
        "from datasets import load_dataset\n",
        "from peft import LoraConfig, get_peft_model\n",
        "\n",
        "\n",
        "tokenizer = AutoTokenizer.from_pretrained(\"microsoft/DialoGPT-medium\")\n",
        "tokenizer.pad_token = tokenizer.eos_token\n",
        "\n",
        "\n",
        "def model_init():\n",
        "\n",
        "    device = \"cuda\"\n",
        "    model_name = \"microsoft/DialoGPT-medium\"\n",
        "    model = AutoModelForCausalLM.from_pretrained(model_name)\n",
        "    model = model.to(device)\n",
        "\n",
        "\n",
        "\n",
        "\n",
        "    return model\n"
      ]
    },
    {
      "cell_type": "code",
      "execution_count": null,
      "id": "0f0ed57c",
      "metadata": {
        "execution": {
          "iopub.execute_input": "2025-02-12T23:35:00.413632Z",
          "iopub.status.busy": "2025-02-12T23:35:00.413042Z",
          "iopub.status.idle": "2025-02-12T23:35:00.454752Z",
          "shell.execute_reply": "2025-02-12T23:35:00.453872Z",
          "shell.execute_reply.started": "2025-02-12T23:35:00.413606Z"
        },
        "id": "0f0ed57c",
        "papermill": {
          "duration": 0.034579,
          "end_time": "2025-02-10T05:33:14.073920",
          "exception": false,
          "start_time": "2025-02-10T05:33:14.039341",
          "status": "completed"
        },
        "tags": [],
        "trusted": true
      },
      "outputs": [],
      "source": [
        "import pandas as pd\n",
        "#dados\n",
        "df = pd.read_csv(\"/kaggle/input/dadosmodaa/dados_moda.xls\")\n",
        "\n"
      ]
    },
    {
      "cell_type": "code",
      "execution_count": null,
      "id": "43f4bbe5-0b0a-498e-9369-e3298714b62b",
      "metadata": {
        "execution": {
          "iopub.execute_input": "2025-02-12T23:35:00.457330Z",
          "iopub.status.busy": "2025-02-12T23:35:00.457058Z",
          "iopub.status.idle": "2025-02-12T23:35:00.477720Z",
          "shell.execute_reply": "2025-02-12T23:35:00.476917Z",
          "shell.execute_reply.started": "2025-02-12T23:35:00.457310Z"
        },
        "trusted": true,
        "id": "43f4bbe5-0b0a-498e-9369-e3298714b62b",
        "outputId": "89ed6006-b9f3-4713-b2ac-7209573f07ce"
      },
      "outputs": [
        {
          "data": {
            "text/html": [
              "<div>\n",
              "<style scoped>\n",
              "    .dataframe tbody tr th:only-of-type {\n",
              "        vertical-align: middle;\n",
              "    }\n",
              "\n",
              "    .dataframe tbody tr th {\n",
              "        vertical-align: top;\n",
              "    }\n",
              "\n",
              "    .dataframe thead th {\n",
              "        text-align: right;\n",
              "    }\n",
              "</style>\n",
              "<table border=\"1\" class=\"dataframe\">\n",
              "  <thead>\n",
              "    <tr style=\"text-align: right;\">\n",
              "      <th></th>\n",
              "      <th>respostaH</th>\n",
              "      <th>context</th>\n",
              "      <th>perguntaV</th>\n",
              "      <th>respostaV</th>\n",
              "    </tr>\n",
              "  </thead>\n",
              "  <tbody>\n",
              "    <tr>\n",
              "      <th>0</th>\n",
              "      <td>Wide-leg pants are having a major moment in fa...</td>\n",
              "      <td>The key to styling wide-leg pants is balancing...</td>\n",
              "      <td>What tops work best with wide-leg pants?</td>\n",
              "      <td>A fitted turtleneck, crop top, or tucked-in bl...</td>\n",
              "    </tr>\n",
              "    <tr>\n",
              "      <th>1</th>\n",
              "      <td>Oversized vests are currently dominating stree...</td>\n",
              "      <td>A vest can add structure to an outfit while ke...</td>\n",
              "      <td>Can I wear a vest casually?</td>\n",
              "      <td>Yes, pair a vest with jeans and a t-shirt for ...</td>\n",
              "    </tr>\n",
              "    <tr>\n",
              "      <th>2</th>\n",
              "      <td>Pearl accessories have made a contemporary com...</td>\n",
              "      <td>Pearls add elegance and sophistication to any ...</td>\n",
              "      <td>How can I make pearls look modern?</td>\n",
              "      <td>Mix pearl jewelry with other metals, layer dif...</td>\n",
              "    </tr>\n",
              "    <tr>\n",
              "      <th>3</th>\n",
              "      <td>The midi length is especially popular now, see...</td>\n",
              "      <td>A midi dress hits between the knee and ankle, ...</td>\n",
              "      <td>What shoes complement a midi dress?</td>\n",
              "      <td>Depending on the style, strappy sandals, point...</td>\n",
              "    </tr>\n",
              "    <tr>\n",
              "      <th>4</th>\n",
              "      <td>Metallic pieces are making a strong statement ...</td>\n",
              "      <td>Metallic accessories or clothing can add inter...</td>\n",
              "      <td>Can I wear metallics during the day?</td>\n",
              "      <td>Yes, incorporate small metallic elements like ...</td>\n",
              "    </tr>\n",
              "  </tbody>\n",
              "</table>\n",
              "</div>"
            ],
            "text/plain": [
              "                                           respostaH  \\\n",
              "0  Wide-leg pants are having a major moment in fa...   \n",
              "1  Oversized vests are currently dominating stree...   \n",
              "2  Pearl accessories have made a contemporary com...   \n",
              "3  The midi length is especially popular now, see...   \n",
              "4  Metallic pieces are making a strong statement ...   \n",
              "\n",
              "                                             context  \\\n",
              "0  The key to styling wide-leg pants is balancing...   \n",
              "1  A vest can add structure to an outfit while ke...   \n",
              "2  Pearls add elegance and sophistication to any ...   \n",
              "3  A midi dress hits between the knee and ankle, ...   \n",
              "4  Metallic accessories or clothing can add inter...   \n",
              "\n",
              "                                  perguntaV  \\\n",
              "0  What tops work best with wide-leg pants?   \n",
              "1               Can I wear a vest casually?   \n",
              "2        How can I make pearls look modern?   \n",
              "3       What shoes complement a midi dress?   \n",
              "4      Can I wear metallics during the day?   \n",
              "\n",
              "                                           respostaV  \n",
              "0  A fitted turtleneck, crop top, or tucked-in bl...  \n",
              "1  Yes, pair a vest with jeans and a t-shirt for ...  \n",
              "2  Mix pearl jewelry with other metals, layer dif...  \n",
              "3  Depending on the style, strappy sandals, point...  \n",
              "4  Yes, incorporate small metallic elements like ...  "
            ]
          },
          "execution_count": 4,
          "metadata": {},
          "output_type": "execute_result"
        }
      ],
      "source": [
        "df.head()"
      ]
    },
    {
      "cell_type": "code",
      "execution_count": null,
      "id": "c643204f",
      "metadata": {
        "execution": {
          "iopub.execute_input": "2025-02-12T23:35:00.479538Z",
          "iopub.status.busy": "2025-02-12T23:35:00.479322Z",
          "iopub.status.idle": "2025-02-12T23:35:00.484043Z",
          "shell.execute_reply": "2025-02-12T23:35:00.483297Z",
          "shell.execute_reply.started": "2025-02-12T23:35:00.479520Z"
        },
        "id": "c643204f",
        "papermill": {
          "duration": 0.013095,
          "end_time": "2025-02-10T05:33:14.108033",
          "exception": false,
          "start_time": "2025-02-10T05:33:14.094938",
          "status": "completed"
        },
        "tags": [],
        "trusted": true
      },
      "outputs": [],
      "source": [
        "from datasets import Dataset\n",
        "\n",
        "\n"
      ]
    },
    {
      "cell_type": "code",
      "execution_count": null,
      "id": "6cecf6e8",
      "metadata": {
        "execution": {
          "iopub.execute_input": "2025-02-12T23:35:00.485160Z",
          "iopub.status.busy": "2025-02-12T23:35:00.484833Z",
          "iopub.status.idle": "2025-02-12T23:35:00.511241Z",
          "shell.execute_reply": "2025-02-12T23:35:00.510400Z",
          "shell.execute_reply.started": "2025-02-12T23:35:00.485139Z"
        },
        "papermill": {
          "duration": null,
          "end_time": null,
          "exception": null,
          "start_time": null,
          "status": "pending"
        },
        "tags": [],
        "trusted": true,
        "id": "6cecf6e8"
      },
      "outputs": [],
      "source": [
        "from sklearn.model_selection import train_test_split\n",
        "\n",
        "trn_df, val_df = train_test_split(df, test_size=0.1)"
      ]
    },
    {
      "cell_type": "code",
      "execution_count": null,
      "id": "539760fc",
      "metadata": {
        "execution": {
          "iopub.execute_input": "2025-02-12T23:35:00.512369Z",
          "iopub.status.busy": "2025-02-12T23:35:00.512062Z",
          "iopub.status.idle": "2025-02-12T23:35:00.516630Z",
          "shell.execute_reply": "2025-02-12T23:35:00.515873Z",
          "shell.execute_reply.started": "2025-02-12T23:35:00.512341Z"
        },
        "papermill": {
          "duration": null,
          "end_time": null,
          "exception": null,
          "start_time": null,
          "status": "pending"
        },
        "tags": [],
        "trusted": true,
        "id": "539760fc",
        "outputId": "ac4fb4e9-ba5e-446a-aebc-a67bced2de1f"
      },
      "outputs": [
        {
          "name": "stdout",
          "output_type": "stream",
          "text": [
            "2286\n",
            "254\n"
          ]
        }
      ],
      "source": [
        "print(len(trn_df))\n",
        "print(len(val_df))"
      ]
    },
    {
      "cell_type": "code",
      "execution_count": null,
      "id": "abe1156a",
      "metadata": {
        "execution": {
          "iopub.execute_input": "2025-02-12T23:35:00.517733Z",
          "iopub.status.busy": "2025-02-12T23:35:00.517443Z",
          "iopub.status.idle": "2025-02-12T23:35:02.032876Z",
          "shell.execute_reply": "2025-02-12T23:35:02.032229Z",
          "shell.execute_reply.started": "2025-02-12T23:35:00.517687Z"
        },
        "papermill": {
          "duration": null,
          "end_time": null,
          "exception": null,
          "start_time": null,
          "status": "pending"
        },
        "tags": [],
        "trusted": true,
        "id": "abe1156a"
      },
      "outputs": [],
      "source": [
        "\n",
        "\n",
        "#função para construir a sequencia completa: contexto + pergunta + resposta\n",
        "def construct_conv(row, tokenizer):\n",
        "    #concatena contexto, pergunta e resposta, adicionando token de fim de sequencia (EOS) ao final de cada parte\n",
        "    conversation = (\n",
        "        # row[\"perguntaH\"]  #EOS após a pergunta atual\n",
        "        row[\"respostaH\"]   #EOS após a resposta atual\n",
        "        + row[\"context\"]   + \"<|endoftext|> \" #contexto já tem EOS\n",
        "        + row[\"perguntaV\"] + \"<|endoftext|> \"  #EOS após a pergunta atual\n",
        "        + row[\"respostaV\"] + \"<|endoftext|> \"  #EOS após a resposta atual\n",
        "    )\n",
        "\n",
        "    #tokenizar a sequência concatenada\n",
        "    tokenized_conv = tokenizer(\n",
        "        conversation,\n",
        "        truncation=True,\n",
        "        padding=\"max_length\",\n",
        "        max_length=256,\n",
        "        return_tensors=\"pt\"\n",
        "    )\n",
        "\n",
        "    return tokenized_conv\n",
        "\n",
        "\n",
        "\n",
        "#tokenizar os dados de treinamento e validação\n",
        "tokenized_train = [construct_conv(row, tokenizer) for _, row in trn_df.iterrows()]\n",
        "tokenized_test = [construct_conv(row, tokenizer) for _, row in val_df.iterrows()]\n",
        "\n",
        "#como o modelo é de autoregressao pode-se passar os dados diretamente sem a marcacao entrada e resposta (input e label)"
      ]
    },
    {
      "cell_type": "code",
      "execution_count": null,
      "id": "ac92223d",
      "metadata": {
        "execution": {
          "iopub.execute_input": "2025-02-12T23:35:02.034015Z",
          "iopub.status.busy": "2025-02-12T23:35:02.033749Z",
          "iopub.status.idle": "2025-02-12T23:35:02.061687Z",
          "shell.execute_reply": "2025-02-12T23:35:02.060849Z",
          "shell.execute_reply.started": "2025-02-12T23:35:02.033958Z"
        },
        "papermill": {
          "duration": null,
          "end_time": null,
          "exception": null,
          "start_time": null,
          "status": "pending"
        },
        "tags": [],
        "trusted": true,
        "id": "ac92223d",
        "outputId": "9feb44fe-dd62-433a-8597-f6a1bba1c479"
      },
      "outputs": [
        {
          "data": {
            "text/plain": [
              "{'input_ids': tensor([[29289,   832,   257,   442, 28898, 35685,   290,  7331, 42370,    11,\n",
              "           751,  6546, 21029,   290, 19847, 14412,    11,   393,  5166,   351,\n",
              "           257, 18235,   256,  3325, 43163,   290, 10329,   532,  1029, 14412,\n",
              "            13,  1353,   351,   257,  2042, 25749, 13209,    13, 40078, 42370,\n",
              "           761,   867, 11685,    13, 50256,   703,   466,  1312,  1394,  5814,\n",
              "           287, 42370,  1141, 45764,    30, 50256,  7679, 11562,   344,   532,\n",
              "         16566,  1353,   739,  3218,   256,  2337,    11,  6546, 25749, 42370,\n",
              "            11,   751,  7331, 14412,    13, 50256,   220, 50256, 50256, 50256,\n",
              "         50256, 50256, 50256, 50256, 50256, 50256, 50256, 50256, 50256, 50256,\n",
              "         50256, 50256, 50256, 50256, 50256, 50256, 50256, 50256, 50256, 50256,\n",
              "         50256, 50256, 50256, 50256, 50256, 50256, 50256, 50256, 50256, 50256,\n",
              "         50256, 50256, 50256, 50256, 50256, 50256, 50256, 50256, 50256, 50256,\n",
              "         50256, 50256, 50256, 50256, 50256, 50256, 50256, 50256, 50256, 50256,\n",
              "         50256, 50256, 50256, 50256, 50256, 50256, 50256, 50256, 50256, 50256,\n",
              "         50256, 50256, 50256, 50256, 50256, 50256, 50256, 50256, 50256, 50256,\n",
              "         50256, 50256, 50256, 50256, 50256, 50256, 50256, 50256, 50256, 50256,\n",
              "         50256, 50256, 50256, 50256, 50256, 50256, 50256, 50256, 50256, 50256,\n",
              "         50256, 50256, 50256, 50256, 50256, 50256, 50256, 50256, 50256, 50256,\n",
              "         50256, 50256, 50256, 50256, 50256, 50256, 50256, 50256, 50256, 50256,\n",
              "         50256, 50256, 50256, 50256, 50256, 50256, 50256, 50256, 50256, 50256,\n",
              "         50256, 50256, 50256, 50256, 50256, 50256, 50256, 50256, 50256, 50256,\n",
              "         50256, 50256, 50256, 50256, 50256, 50256, 50256, 50256, 50256, 50256,\n",
              "         50256, 50256, 50256, 50256, 50256, 50256, 50256, 50256, 50256, 50256,\n",
              "         50256, 50256, 50256, 50256, 50256, 50256, 50256, 50256, 50256, 50256,\n",
              "         50256, 50256, 50256, 50256, 50256, 50256, 50256, 50256, 50256, 50256,\n",
              "         50256, 50256, 50256, 50256, 50256, 50256]]), 'attention_mask': tensor([[1, 1, 1, 1, 1, 1, 1, 1, 1, 1, 1, 1, 1, 1, 1, 1, 1, 1, 1, 1, 1, 1, 1, 1,\n",
              "         1, 1, 1, 1, 1, 1, 1, 1, 1, 1, 1, 1, 1, 1, 1, 1, 1, 1, 1, 1, 1, 1, 1, 1,\n",
              "         1, 1, 1, 1, 1, 1, 1, 1, 1, 1, 1, 1, 1, 1, 1, 1, 1, 1, 1, 1, 1, 1, 1, 1,\n",
              "         1, 1, 1, 1, 1, 0, 0, 0, 0, 0, 0, 0, 0, 0, 0, 0, 0, 0, 0, 0, 0, 0, 0, 0,\n",
              "         0, 0, 0, 0, 0, 0, 0, 0, 0, 0, 0, 0, 0, 0, 0, 0, 0, 0, 0, 0, 0, 0, 0, 0,\n",
              "         0, 0, 0, 0, 0, 0, 0, 0, 0, 0, 0, 0, 0, 0, 0, 0, 0, 0, 0, 0, 0, 0, 0, 0,\n",
              "         0, 0, 0, 0, 0, 0, 0, 0, 0, 0, 0, 0, 0, 0, 0, 0, 0, 0, 0, 0, 0, 0, 0, 0,\n",
              "         0, 0, 0, 0, 0, 0, 0, 0, 0, 0, 0, 0, 0, 0, 0, 0, 0, 0, 0, 0, 0, 0, 0, 0,\n",
              "         0, 0, 0, 0, 0, 0, 0, 0, 0, 0, 0, 0, 0, 0, 0, 0, 0, 0, 0, 0, 0, 0, 0, 0,\n",
              "         0, 0, 0, 0, 0, 0, 0, 0, 0, 0, 0, 0, 0, 0, 0, 0, 0, 0, 0, 0, 0, 0, 0, 0,\n",
              "         0, 0, 0, 0, 0, 0, 0, 0, 0, 0, 0, 0, 0, 0, 0, 0]])}"
            ]
          },
          "execution_count": 9,
          "metadata": {},
          "output_type": "execute_result"
        }
      ],
      "source": [
        "tokenized_train[0]"
      ]
    },
    {
      "cell_type": "code",
      "execution_count": null,
      "id": "2092918c",
      "metadata": {
        "execution": {
          "iopub.execute_input": "2025-02-12T23:35:02.062905Z",
          "iopub.status.busy": "2025-02-12T23:35:02.062596Z",
          "iopub.status.idle": "2025-02-12T23:35:02.066479Z",
          "shell.execute_reply": "2025-02-12T23:35:02.065660Z",
          "shell.execute_reply.started": "2025-02-12T23:35:02.062874Z"
        },
        "id": "2092918c",
        "papermill": {
          "duration": null,
          "end_time": null,
          "exception": null,
          "start_time": null,
          "status": "pending"
        },
        "tags": [],
        "trusted": true
      },
      "outputs": [],
      "source": [
        "from transformers import AdamW\n",
        "import torch\n",
        "\n"
      ]
    },
    {
      "cell_type": "code",
      "execution_count": null,
      "id": "8fc5897e",
      "metadata": {
        "execution": {
          "iopub.execute_input": "2025-02-12T23:35:02.067561Z",
          "iopub.status.busy": "2025-02-12T23:35:02.067351Z",
          "iopub.status.idle": "2025-02-12T23:35:02.080475Z",
          "shell.execute_reply": "2025-02-12T23:35:02.079620Z",
          "shell.execute_reply.started": "2025-02-12T23:35:02.067543Z"
        },
        "papermill": {
          "duration": null,
          "end_time": null,
          "exception": null,
          "start_time": null,
          "status": "pending"
        },
        "tags": [],
        "trusted": true,
        "id": "8fc5897e"
      },
      "outputs": [],
      "source": [
        "# import torch\n",
        "# torch.cuda.empty_cache()"
      ]
    },
    {
      "cell_type": "code",
      "execution_count": null,
      "id": "5717eb15",
      "metadata": {
        "execution": {
          "iopub.execute_input": "2025-02-12T23:35:02.081628Z",
          "iopub.status.busy": "2025-02-12T23:35:02.081348Z",
          "iopub.status.idle": "2025-02-13T03:33:25.123192Z",
          "shell.execute_reply": "2025-02-13T03:33:25.122111Z",
          "shell.execute_reply.started": "2025-02-12T23:35:02.081597Z"
        },
        "id": "5717eb15",
        "papermill": {
          "duration": null,
          "end_time": null,
          "exception": null,
          "start_time": null,
          "status": "pending"
        },
        "tags": [],
        "trusted": true,
        "outputId": "245834a9-468a-4032-e0e3-ab5bd9047eae",
        "colab": {
          "referenced_widgets": [
            "f4a0a4df732d468dba8757b620c6372d",
            "0291612649ba4faab306229a805ceae8",
            "637c190e4bcb4a5da03c9a59a45d3c42"
          ]
        }
      },
      "outputs": [
        {
          "name": "stderr",
          "output_type": "stream",
          "text": [
            "/usr/local/lib/python3.10/dist-packages/transformers/training_args.py:1575: FutureWarning: `evaluation_strategy` is deprecated and will be removed in version 4.46 of 🤗 Transformers. Use `eval_strategy` instead\n",
            "  warnings.warn(\n"
          ]
        },
        {
          "data": {
            "application/vnd.jupyter.widget-view+json": {
              "model_id": "f4a0a4df732d468dba8757b620c6372d",
              "version_major": 2,
              "version_minor": 0
            },
            "text/plain": [
              "config.json:   0%|          | 0.00/642 [00:00<?, ?B/s]"
            ]
          },
          "metadata": {},
          "output_type": "display_data"
        },
        {
          "data": {
            "application/vnd.jupyter.widget-view+json": {
              "model_id": "0291612649ba4faab306229a805ceae8",
              "version_major": 2,
              "version_minor": 0
            },
            "text/plain": [
              "pytorch_model.bin:   0%|          | 0.00/863M [00:00<?, ?B/s]"
            ]
          },
          "metadata": {},
          "output_type": "display_data"
        },
        {
          "data": {
            "application/vnd.jupyter.widget-view+json": {
              "model_id": "637c190e4bcb4a5da03c9a59a45d3c42",
              "version_major": 2,
              "version_minor": 0
            },
            "text/plain": [
              "generation_config.json:   0%|          | 0.00/124 [00:00<?, ?B/s]"
            ]
          },
          "metadata": {},
          "output_type": "display_data"
        },
        {
          "name": "stderr",
          "output_type": "stream",
          "text": [
            "[I 2025-02-12 23:35:09,373] A new study created in memory with name: no-name-a458d9ef-ad8d-4c09-87dd-9e7464e0816c\n",
            "<ipython-input-12-2e917098e11d>:15: FutureWarning: suggest_loguniform has been deprecated in v3.0.0. This feature will be removed in v6.0.0. See https://github.com/optuna/optuna/releases/tag/v3.0.0. Use suggest_float(..., log=True) instead.\n",
            "  \"learning_rate\": trial.suggest_loguniform(\"learning_rate\", 6e-5, 2e-4),\n",
            "<ipython-input-12-2e917098e11d>:18: FutureWarning: suggest_loguniform has been deprecated in v3.0.0. This feature will be removed in v6.0.0. See https://github.com/optuna/optuna/releases/tag/v3.0.0. Use suggest_float(..., log=True) instead.\n",
            "  \"weight_decay\": trial.suggest_loguniform(\"weight_decay\", 1e-5, 1e-3),\n",
            "/usr/local/lib/python3.10/dist-packages/torch/nn/parallel/_functions.py:71: UserWarning: Was asked to gather along dimension 0, but all input tensors were scalars; will instead unsqueeze and return a vector.\n",
            "  warnings.warn(\n"
          ]
        },
        {
          "data": {
            "text/html": [
              "\n",
              "    <div>\n",
              "      \n",
              "      <progress value='282' max='282' style='width:300px; height:20px; vertical-align: middle;'></progress>\n",
              "      [282/282 28:57, Epoch 5/6]\n",
              "    </div>\n",
              "    <table border=\"1\" class=\"dataframe\">\n",
              "  <thead>\n",
              " <tr style=\"text-align: left;\">\n",
              "      <th>Epoch</th>\n",
              "      <th>Training Loss</th>\n",
              "      <th>Validation Loss</th>\n",
              "    </tr>\n",
              "  </thead>\n",
              "  <tbody>\n",
              "    <tr>\n",
              "      <td>0</td>\n",
              "      <td>3.126600</td>\n",
              "      <td>2.216038</td>\n",
              "    </tr>\n",
              "    <tr>\n",
              "      <td>1</td>\n",
              "      <td>2.161700</td>\n",
              "      <td>1.914201</td>\n",
              "    </tr>\n",
              "    <tr>\n",
              "      <td>2</td>\n",
              "      <td>1.885500</td>\n",
              "      <td>1.768643</td>\n",
              "    </tr>\n",
              "    <tr>\n",
              "      <td>3</td>\n",
              "      <td>1.731800</td>\n",
              "      <td>1.693733</td>\n",
              "    </tr>\n",
              "    <tr>\n",
              "      <td>4</td>\n",
              "      <td>1.628800</td>\n",
              "      <td>1.649274</td>\n",
              "    </tr>\n",
              "    <tr>\n",
              "      <td>5</td>\n",
              "      <td>1.561700</td>\n",
              "      <td>1.640623</td>\n",
              "    </tr>\n",
              "  </tbody>\n",
              "</table><p>"
            ],
            "text/plain": [
              "<IPython.core.display.HTML object>"
            ]
          },
          "metadata": {},
          "output_type": "display_data"
        },
        {
          "name": "stderr",
          "output_type": "stream",
          "text": [
            "[I 2025-02-13 00:04:15,859] Trial 0 finished with value: 1.640622854232788 and parameters: {'learning_rate': 7.083787970162043e-05, 'num_train_epochs': 6, 'per_device_train_batch_size': 6, 'weight_decay': 1.951701941758718e-05, 'gradient_accumulation_steps': 4}. Best is trial 0 with value: 1.640622854232788.\n"
          ]
        },
        {
          "data": {
            "text/html": [
              "\n",
              "    <div>\n",
              "      \n",
              "      <progress value='715' max='715' style='width:300px; height:20px; vertical-align: middle;'></progress>\n",
              "      [715/715 27:38, Epoch 5/5]\n",
              "    </div>\n",
              "    <table border=\"1\" class=\"dataframe\">\n",
              "  <thead>\n",
              " <tr style=\"text-align: left;\">\n",
              "      <th>Epoch</th>\n",
              "      <th>Training Loss</th>\n",
              "      <th>Validation Loss</th>\n",
              "    </tr>\n",
              "  </thead>\n",
              "  <tbody>\n",
              "    <tr>\n",
              "      <td>1</td>\n",
              "      <td>2.674600</td>\n",
              "      <td>1.969728</td>\n",
              "    </tr>\n",
              "    <tr>\n",
              "      <td>2</td>\n",
              "      <td>1.883000</td>\n",
              "      <td>1.713442</td>\n",
              "    </tr>\n",
              "    <tr>\n",
              "      <td>3</td>\n",
              "      <td>1.622100</td>\n",
              "      <td>1.603994</td>\n",
              "    </tr>\n",
              "    <tr>\n",
              "      <td>4</td>\n",
              "      <td>1.471200</td>\n",
              "      <td>1.554089</td>\n",
              "    </tr>\n",
              "    <tr>\n",
              "      <td>5</td>\n",
              "      <td>1.379400</td>\n",
              "      <td>1.537945</td>\n",
              "    </tr>\n",
              "  </tbody>\n",
              "</table><p>"
            ],
            "text/plain": [
              "<IPython.core.display.HTML object>"
            ]
          },
          "metadata": {},
          "output_type": "display_data"
        },
        {
          "name": "stderr",
          "output_type": "stream",
          "text": [
            "[I 2025-02-13 00:32:00,224] Trial 1 finished with value: 1.5379447937011719 and parameters: {'learning_rate': 6.17124786231849e-05, 'num_train_epochs': 5, 'per_device_train_batch_size': 4, 'weight_decay': 0.00010347979950698736, 'gradient_accumulation_steps': 2}. Best is trial 1 with value: 1.5379447937011719.\n"
          ]
        },
        {
          "data": {
            "text/html": [
              "\n",
              "    <div>\n",
              "      \n",
              "      <progress value='282' max='282' style='width:300px; height:20px; vertical-align: middle;'></progress>\n",
              "      [282/282 29:05, Epoch 5/6]\n",
              "    </div>\n",
              "    <table border=\"1\" class=\"dataframe\">\n",
              "  <thead>\n",
              " <tr style=\"text-align: left;\">\n",
              "      <th>Epoch</th>\n",
              "      <th>Training Loss</th>\n",
              "      <th>Validation Loss</th>\n",
              "    </tr>\n",
              "  </thead>\n",
              "  <tbody>\n",
              "    <tr>\n",
              "      <td>0</td>\n",
              "      <td>2.977300</td>\n",
              "      <td>2.101829</td>\n",
              "    </tr>\n",
              "    <tr>\n",
              "      <td>1</td>\n",
              "      <td>2.027400</td>\n",
              "      <td>1.805093</td>\n",
              "    </tr>\n",
              "    <tr>\n",
              "      <td>2</td>\n",
              "      <td>1.737700</td>\n",
              "      <td>1.667322</td>\n",
              "    </tr>\n",
              "    <tr>\n",
              "      <td>3</td>\n",
              "      <td>1.572300</td>\n",
              "      <td>1.597446</td>\n",
              "    </tr>\n",
              "    <tr>\n",
              "      <td>4</td>\n",
              "      <td>1.456600</td>\n",
              "      <td>1.554194</td>\n",
              "    </tr>\n",
              "    <tr>\n",
              "      <td>5</td>\n",
              "      <td>1.382800</td>\n",
              "      <td>1.549774</td>\n",
              "    </tr>\n",
              "  </tbody>\n",
              "</table><p>"
            ],
            "text/plain": [
              "<IPython.core.display.HTML object>"
            ]
          },
          "metadata": {},
          "output_type": "display_data"
        },
        {
          "name": "stderr",
          "output_type": "stream",
          "text": [
            "[I 2025-02-13 01:01:14,239] Trial 2 finished with value: 1.5497742891311646 and parameters: {'learning_rate': 9.380717206957897e-05, 'num_train_epochs': 6, 'per_device_train_batch_size': 6, 'weight_decay': 4.132795959850116e-05, 'gradient_accumulation_steps': 4}. Best is trial 1 with value: 1.5379447937011719.\n"
          ]
        },
        {
          "data": {
            "text/html": [
              "\n",
              "    <div>\n",
              "      \n",
              "      <progress value='380' max='380' style='width:300px; height:20px; vertical-align: middle;'></progress>\n",
              "      [380/380 19:43, Epoch 3/4]\n",
              "    </div>\n",
              "    <table border=\"1\" class=\"dataframe\">\n",
              "  <thead>\n",
              " <tr style=\"text-align: left;\">\n",
              "      <th>Epoch</th>\n",
              "      <th>Training Loss</th>\n",
              "      <th>Validation Loss</th>\n",
              "    </tr>\n",
              "  </thead>\n",
              "  <tbody>\n",
              "    <tr>\n",
              "      <td>1</td>\n",
              "      <td>2.702400</td>\n",
              "      <td>1.983652</td>\n",
              "    </tr>\n",
              "    <tr>\n",
              "      <td>2</td>\n",
              "      <td>1.896400</td>\n",
              "      <td>1.738356</td>\n",
              "    </tr>\n",
              "    <tr>\n",
              "      <td>3</td>\n",
              "      <td>1.534900</td>\n",
              "      <td>1.610291</td>\n",
              "    </tr>\n",
              "  </tbody>\n",
              "</table><p>"
            ],
            "text/plain": [
              "<IPython.core.display.HTML object>"
            ]
          },
          "metadata": {},
          "output_type": "display_data"
        },
        {
          "name": "stderr",
          "output_type": "stream",
          "text": [
            "[I 2025-02-13 01:21:04,891] Trial 3 finished with value: 1.610290765762329 and parameters: {'learning_rate': 7.732219652412872e-05, 'num_train_epochs': 4, 'per_device_train_batch_size': 6, 'weight_decay': 0.00029020053186847326, 'gradient_accumulation_steps': 2}. Best is trial 1 with value: 1.5379447937011719.\n"
          ]
        },
        {
          "data": {
            "text/html": [
              "\n",
              "    <div>\n",
              "      \n",
              "      <progress value='210' max='210' style='width:300px; height:20px; vertical-align: middle;'></progress>\n",
              "      [210/210 27:52, Epoch 5/6]\n",
              "    </div>\n",
              "    <table border=\"1\" class=\"dataframe\">\n",
              "  <thead>\n",
              " <tr style=\"text-align: left;\">\n",
              "      <th>Epoch</th>\n",
              "      <th>Training Loss</th>\n",
              "      <th>Validation Loss</th>\n",
              "    </tr>\n",
              "  </thead>\n",
              "  <tbody>\n",
              "    <tr>\n",
              "      <td>0</td>\n",
              "      <td>2.954300</td>\n",
              "      <td>2.053633</td>\n",
              "    </tr>\n",
              "    <tr>\n",
              "      <td>1</td>\n",
              "      <td>1.943400</td>\n",
              "      <td>1.725103</td>\n",
              "    </tr>\n",
              "    <tr>\n",
              "      <td>2</td>\n",
              "      <td>1.600700</td>\n",
              "      <td>1.575919</td>\n",
              "    </tr>\n",
              "    <tr>\n",
              "      <td>3</td>\n",
              "      <td>1.405500</td>\n",
              "      <td>1.507954</td>\n",
              "    </tr>\n",
              "    <tr>\n",
              "      <td>4</td>\n",
              "      <td>1.266500</td>\n",
              "      <td>1.474683</td>\n",
              "    </tr>\n",
              "    <tr>\n",
              "      <td>5</td>\n",
              "      <td>1.179200</td>\n",
              "      <td>1.469980</td>\n",
              "    </tr>\n",
              "  </tbody>\n",
              "</table><p>"
            ],
            "text/plain": [
              "<IPython.core.display.HTML object>"
            ]
          },
          "metadata": {},
          "output_type": "display_data"
        },
        {
          "name": "stderr",
          "output_type": "stream",
          "text": [
            "[I 2025-02-13 01:49:07,367] Trial 4 finished with value: 1.4699796438217163 and parameters: {'learning_rate': 0.00015383670181318683, 'num_train_epochs': 6, 'per_device_train_batch_size': 8, 'weight_decay': 0.0009721525976886408, 'gradient_accumulation_steps': 4}. Best is trial 4 with value: 1.4699796438217163.\n"
          ]
        },
        {
          "data": {
            "text/html": [
              "\n",
              "    <div>\n",
              "      \n",
              "      <progress value='329' max='329' style='width:300px; height:20px; vertical-align: middle;'></progress>\n",
              "      [329/329 33:56, Epoch 6/7]\n",
              "    </div>\n",
              "    <table border=\"1\" class=\"dataframe\">\n",
              "  <thead>\n",
              " <tr style=\"text-align: left;\">\n",
              "      <th>Epoch</th>\n",
              "      <th>Training Loss</th>\n",
              "      <th>Validation Loss</th>\n",
              "    </tr>\n",
              "  </thead>\n",
              "  <tbody>\n",
              "    <tr>\n",
              "      <td>0</td>\n",
              "      <td>2.887200</td>\n",
              "      <td>2.032518</td>\n",
              "    </tr>\n",
              "    <tr>\n",
              "      <td>1</td>\n",
              "      <td>1.939100</td>\n",
              "      <td>1.732657</td>\n",
              "    </tr>\n",
              "    <tr>\n",
              "      <td>2</td>\n",
              "      <td>1.626800</td>\n",
              "      <td>1.593424</td>\n",
              "    </tr>\n",
              "    <tr>\n",
              "      <td>3</td>\n",
              "      <td>1.435200</td>\n",
              "      <td>1.515823</td>\n",
              "    </tr>\n",
              "    <tr>\n",
              "      <td>4</td>\n",
              "      <td>1.293500</td>\n",
              "      <td>1.469990</td>\n",
              "    </tr>\n",
              "    <tr>\n",
              "      <td>5</td>\n",
              "      <td>1.205300</td>\n",
              "      <td>1.456344</td>\n",
              "    </tr>\n",
              "    <tr>\n",
              "      <td>6</td>\n",
              "      <td>1.138600</td>\n",
              "      <td>1.455511</td>\n",
              "    </tr>\n",
              "  </tbody>\n",
              "</table><p>"
            ],
            "text/plain": [
              "<IPython.core.display.HTML object>"
            ]
          },
          "metadata": {},
          "output_type": "display_data"
        },
        {
          "name": "stderr",
          "output_type": "stream",
          "text": [
            "[I 2025-02-13 02:23:13,965] Trial 5 finished with value: 1.4555113315582275 and parameters: {'learning_rate': 0.00011273744271310599, 'num_train_epochs': 7, 'per_device_train_batch_size': 6, 'weight_decay': 0.0001241882895534497, 'gradient_accumulation_steps': 4}. Best is trial 5 with value: 1.4555113315582275.\n"
          ]
        },
        {
          "data": {
            "text/html": [
              "\n",
              "    <div>\n",
              "      \n",
              "      <progress value='35' max='140' style='width:300px; height:20px; vertical-align: middle;'></progress>\n",
              "      [ 35/140 04:32 < 14:27, 0.12 it/s, Epoch 0/4]\n",
              "    </div>\n",
              "    <table border=\"1\" class=\"dataframe\">\n",
              "  <thead>\n",
              " <tr style=\"text-align: left;\">\n",
              "      <th>Epoch</th>\n",
              "      <th>Training Loss</th>\n",
              "      <th>Validation Loss</th>\n",
              "    </tr>\n",
              "  </thead>\n",
              "  <tbody>\n",
              "    <tr>\n",
              "      <td>0</td>\n",
              "      <td>3.330900</td>\n",
              "      <td>2.346953</td>\n",
              "    </tr>\n",
              "  </tbody>\n",
              "</table><p>"
            ],
            "text/plain": [
              "<IPython.core.display.HTML object>"
            ]
          },
          "metadata": {},
          "output_type": "display_data"
        },
        {
          "name": "stderr",
          "output_type": "stream",
          "text": [
            "[I 2025-02-13 02:27:56,797] Trial 6 pruned. \n"
          ]
        },
        {
          "data": {
            "text/html": [
              "\n",
              "    <div>\n",
              "      \n",
              "      <progress value='355' max='355' style='width:300px; height:20px; vertical-align: middle;'></progress>\n",
              "      [355/355 26:33, Epoch 4/5]\n",
              "    </div>\n",
              "    <table border=\"1\" class=\"dataframe\">\n",
              "  <thead>\n",
              " <tr style=\"text-align: left;\">\n",
              "      <th>Epoch</th>\n",
              "      <th>Training Loss</th>\n",
              "      <th>Validation Loss</th>\n",
              "    </tr>\n",
              "  </thead>\n",
              "  <tbody>\n",
              "    <tr>\n",
              "      <td>1</td>\n",
              "      <td>2.860100</td>\n",
              "      <td>2.082105</td>\n",
              "    </tr>\n",
              "    <tr>\n",
              "      <td>2</td>\n",
              "      <td>1.992600</td>\n",
              "      <td>1.812601</td>\n",
              "    </tr>\n",
              "    <tr>\n",
              "      <td>3</td>\n",
              "      <td>1.738800</td>\n",
              "      <td>1.693120</td>\n",
              "    </tr>\n",
              "    <tr>\n",
              "      <td>4</td>\n",
              "      <td>1.532600</td>\n",
              "      <td>1.619664</td>\n",
              "    </tr>\n",
              "  </tbody>\n",
              "</table><p>"
            ],
            "text/plain": [
              "<IPython.core.display.HTML object>"
            ]
          },
          "metadata": {},
          "output_type": "display_data"
        },
        {
          "name": "stderr",
          "output_type": "stream",
          "text": [
            "[I 2025-02-13 02:54:38,221] Trial 7 finished with value: 1.619663953781128 and parameters: {'learning_rate': 7.186835192144214e-05, 'num_train_epochs': 5, 'per_device_train_batch_size': 4, 'weight_decay': 1.4172166420353927e-05, 'gradient_accumulation_steps': 4}. Best is trial 5 with value: 1.4555113315582275.\n"
          ]
        },
        {
          "data": {
            "text/html": [
              "\n",
              "    <div>\n",
              "      \n",
              "      <progress value='380' max='380' style='width:300px; height:20px; vertical-align: middle;'></progress>\n",
              "      [380/380 19:43, Epoch 3/4]\n",
              "    </div>\n",
              "    <table border=\"1\" class=\"dataframe\">\n",
              "  <thead>\n",
              " <tr style=\"text-align: left;\">\n",
              "      <th>Epoch</th>\n",
              "      <th>Training Loss</th>\n",
              "      <th>Validation Loss</th>\n",
              "    </tr>\n",
              "  </thead>\n",
              "  <tbody>\n",
              "    <tr>\n",
              "      <td>1</td>\n",
              "      <td>2.410400</td>\n",
              "      <td>1.744947</td>\n",
              "    </tr>\n",
              "    <tr>\n",
              "      <td>2</td>\n",
              "      <td>1.551700</td>\n",
              "      <td>1.494598</td>\n",
              "    </tr>\n",
              "    <tr>\n",
              "      <td>3</td>\n",
              "      <td>1.048800</td>\n",
              "      <td>1.397421</td>\n",
              "    </tr>\n",
              "  </tbody>\n",
              "</table><p>"
            ],
            "text/plain": [
              "<IPython.core.display.HTML object>"
            ]
          },
          "metadata": {},
          "output_type": "display_data"
        },
        {
          "name": "stderr",
          "output_type": "stream",
          "text": [
            "[I 2025-02-13 03:14:28,338] Trial 8 finished with value: 1.3974213600158691 and parameters: {'learning_rate': 0.00017168124793893604, 'num_train_epochs': 4, 'per_device_train_batch_size': 6, 'weight_decay': 0.0005161684608654698, 'gradient_accumulation_steps': 2}. Best is trial 8 with value: 1.3974213600158691.\n"
          ]
        },
        {
          "data": {
            "text/html": [
              "\n",
              "    <div>\n",
              "      \n",
              "      <progress value='284' max='284' style='width:300px; height:20px; vertical-align: middle;'></progress>\n",
              "      [284/284 18:49, Epoch 3/4]\n",
              "    </div>\n",
              "    <table border=\"1\" class=\"dataframe\">\n",
              "  <thead>\n",
              " <tr style=\"text-align: left;\">\n",
              "      <th>Epoch</th>\n",
              "      <th>Training Loss</th>\n",
              "      <th>Validation Loss</th>\n",
              "    </tr>\n",
              "  </thead>\n",
              "  <tbody>\n",
              "    <tr>\n",
              "      <td>1</td>\n",
              "      <td>2.686600</td>\n",
              "      <td>1.961842</td>\n",
              "    </tr>\n",
              "    <tr>\n",
              "      <td>2</td>\n",
              "      <td>1.840300</td>\n",
              "      <td>1.697874</td>\n",
              "    </tr>\n",
              "    <tr>\n",
              "      <td>3</td>\n",
              "      <td>1.455900</td>\n",
              "      <td>1.569638</td>\n",
              "    </tr>\n",
              "  </tbody>\n",
              "</table><p>"
            ],
            "text/plain": [
              "<IPython.core.display.HTML object>"
            ]
          },
          "metadata": {},
          "output_type": "display_data"
        },
        {
          "name": "stderr",
          "output_type": "stream",
          "text": [
            "[I 2025-02-13 03:33:25,118] Trial 9 finished with value: 1.5696381330490112 and parameters: {'learning_rate': 0.00010597869220445967, 'num_train_epochs': 4, 'per_device_train_batch_size': 8, 'weight_decay': 6.754614987928229e-05, 'gradient_accumulation_steps': 2}. Best is trial 8 with value: 1.3974213600158691.\n"
          ]
        },
        {
          "name": "stdout",
          "output_type": "stream",
          "text": [
            "BestRun(run_id='8', objective=1.3974213600158691, hyperparameters={'learning_rate': 0.00017168124793893604, 'num_train_epochs': 4, 'per_device_train_batch_size': 6, 'weight_decay': 0.0005161684608654698, 'gradient_accumulation_steps': 2}, run_summary=None)\n"
          ]
        }
      ],
      "source": [
        "from transformers import Trainer, TrainingArguments, DataCollatorForLanguageModeling\n",
        "from torch.optim import AdamW\n",
        "import optuna\n",
        "\n",
        "#padding\n",
        "if tokenizer.pad_token is None:\n",
        "    tokenizer.pad_token = tokenizer.eos_token\n",
        "\n",
        "#preparando dados para o treinamento\n",
        "data_collator = DataCollatorForLanguageModeling(tokenizer, mlm=False)\n",
        "\n",
        "#hiperparâmetros para o Optuna\n",
        "def hp_space(trial):\n",
        "    return {\n",
        "        \"learning_rate\": trial.suggest_loguniform(\"learning_rate\", 6e-5, 3e-4),\n",
        "        \"num_train_epochs\": trial.suggest_int(\"num_train_epochs\", 4, 7),\n",
        "        \"per_device_train_batch_size\": trial.suggest_categorical(\"per_device_train_batch_size\", [4,6,8]),\n",
        "        \"weight_decay\": trial.suggest_loguniform(\"weight_decay\", 1e-5, 1e-3),\n",
        "        \"gradient_accumulation_steps\": trial.suggest_categorical(\"gradient_accumulation_steps\", [2, 4,6]),\n",
        "    }\n",
        "\n",
        "\n",
        "#busca pelos melhores hiperparâmetros\n",
        "trainer = Trainer(\n",
        "    model_init=model_init,\n",
        "    args=TrainingArguments(\n",
        "        output_dir=\"./moda_telo\",\n",
        "        evaluation_strategy=\"epoch\",\n",
        "        save_strategy=\"no\",\n",
        "        logging_strategy=\"epoch\",\n",
        "        report_to=\"none\",\n",
        "        greater_is_better=False\n",
        "    ),\n",
        "    train_dataset=tokenized_train,\n",
        "    eval_dataset=tokenized_test,\n",
        "    data_collator=data_collator,\n",
        ")\n",
        "\n",
        "#busca pelos melhores hiperparâmetros\n",
        "best_trial = trainer.hyperparameter_search(\n",
        "    direction=\"minimize\",  #minimiza a loss de validacao\n",
        "    hp_space=hp_space,\n",
        "    backend=\"optuna\",\n",
        "    n_trials=10  #5 comb\n",
        ")\n",
        "\n",
        "print(best_trial)\n"
      ]
    },
    {
      "cell_type": "code",
      "execution_count": null,
      "id": "0c31bd35-7f6a-4353-8437-77829caf93f2",
      "metadata": {
        "execution": {
          "iopub.execute_input": "2025-02-13T03:33:25.126091Z",
          "iopub.status.busy": "2025-02-13T03:33:25.125849Z",
          "iopub.status.idle": "2025-02-13T03:33:25.129757Z",
          "shell.execute_reply": "2025-02-13T03:33:25.128931Z",
          "shell.execute_reply.started": "2025-02-13T03:33:25.126070Z"
        },
        "trusted": true,
        "id": "0c31bd35-7f6a-4353-8437-77829caf93f2"
      },
      "outputs": [],
      "source": [
        "model = trainer.model  # O modelo treinado com os melhores hiperparâmetros"
      ]
    },
    {
      "cell_type": "code",
      "execution_count": null,
      "id": "6245ca8a",
      "metadata": {
        "execution": {
          "iopub.execute_input": "2025-02-13T03:33:25.131263Z",
          "iopub.status.busy": "2025-02-13T03:33:25.130958Z",
          "iopub.status.idle": "2025-02-13T03:33:37.115150Z",
          "shell.execute_reply": "2025-02-13T03:33:37.114277Z",
          "shell.execute_reply.started": "2025-02-13T03:33:25.131222Z"
        },
        "papermill": {
          "duration": null,
          "end_time": null,
          "exception": null,
          "start_time": null,
          "status": "pending"
        },
        "tags": [],
        "trusted": true,
        "id": "6245ca8a",
        "outputId": "2e47bab6-5590-4b8b-8dba-cda5715d5e8c"
      },
      "outputs": [
        {
          "data": {
            "text/html": [
              "\n",
              "    <div>\n",
              "      \n",
              "      <progress value='16' max='16' style='width:300px; height:20px; vertical-align: middle;'></progress>\n",
              "      [16/16 00:11]\n",
              "    </div>\n",
              "    "
            ],
            "text/plain": [
              "<IPython.core.display.HTML object>"
            ]
          },
          "metadata": {},
          "output_type": "display_data"
        },
        {
          "name": "stdout",
          "output_type": "stream",
          "text": [
            "{'eval_loss': 1.5696381330490112, 'eval_runtime': 11.9293, 'eval_samples_per_second': 21.292, 'eval_steps_per_second': 1.341, 'epoch': 3.951048951048951, 'perplexity': 4.8049092292785645}\n"
          ]
        }
      ],
      "source": [
        "eval_results = trainer.evaluate()\n",
        "\n",
        "#calculo de perplexidade com base na loss média retornada pelo Trainer\n",
        "if \"eval_loss\" in eval_results:\n",
        "    eval_loss = eval_results[\"eval_loss\"]\n",
        "    perplexity = torch.exp(torch.tensor(eval_loss))\n",
        "    eval_results[\"perplexity\"] = perplexity.item()\n",
        "\n",
        "print(eval_results)"
      ]
    },
    {
      "cell_type": "code",
      "execution_count": null,
      "id": "92323149",
      "metadata": {
        "execution": {
          "iopub.execute_input": "2025-02-13T03:33:37.116364Z",
          "iopub.status.busy": "2025-02-13T03:33:37.116050Z",
          "iopub.status.idle": "2025-02-13T03:33:38.786689Z",
          "shell.execute_reply": "2025-02-13T03:33:38.785902Z",
          "shell.execute_reply.started": "2025-02-13T03:33:37.116333Z"
        },
        "papermill": {
          "duration": null,
          "end_time": null,
          "exception": null,
          "start_time": null,
          "status": "pending"
        },
        "tags": [],
        "trusted": true,
        "id": "92323149",
        "outputId": "767851f0-fd19-49aa-b58b-7603b2afdea1"
      },
      "outputs": [
        {
          "data": {
            "text/plain": [
              "('./moda_modelo/final/tokenizer_config.json',\n",
              " './moda_modelo/final/special_tokens_map.json',\n",
              " './moda_modelo/final/vocab.json',\n",
              " './moda_modelo/final/merges.txt',\n",
              " './moda_modelo/final/added_tokens.json',\n",
              " './moda_modelo/final/tokenizer.json')"
            ]
          },
          "execution_count": 15,
          "metadata": {},
          "output_type": "execute_result"
        }
      ],
      "source": [
        "trainer.save_model(\"./moda_modelo/final\")\n",
        "tokenizer.save_pretrained(\"./moda_modelo/final\")\n"
      ]
    },
    {
      "cell_type": "code",
      "execution_count": null,
      "id": "9240f036",
      "metadata": {
        "execution": {
          "iopub.execute_input": "2025-02-13T03:44:48.659601Z",
          "iopub.status.busy": "2025-02-13T03:44:48.659306Z",
          "iopub.status.idle": "2025-02-13T03:44:48.929859Z",
          "shell.execute_reply": "2025-02-13T03:44:48.928998Z",
          "shell.execute_reply.started": "2025-02-13T03:44:48.659580Z"
        },
        "papermill": {
          "duration": null,
          "end_time": null,
          "exception": null,
          "start_time": null,
          "status": "pending"
        },
        "tags": [],
        "trusted": true,
        "id": "9240f036"
      },
      "outputs": [],
      "source": [
        "from transformers import AutoTokenizer, AutoModelForCausalLM\n",
        "\n",
        "model_path = \"/kaggle/working/moda_modelo/final\"\n",
        "\n",
        "#carregando modelo e o tokenizador treinado\n",
        "tokenizer = AutoTokenizer.from_pretrained(model_path)\n",
        "model = AutoModelForCausalLM.from_pretrained(model_path)\n"
      ]
    },
    {
      "cell_type": "code",
      "execution_count": null,
      "id": "5fe1efcc",
      "metadata": {
        "execution": {
          "iopub.execute_input": "2025-02-13T03:48:32.946454Z",
          "iopub.status.busy": "2025-02-13T03:48:32.946133Z",
          "iopub.status.idle": "2025-02-13T03:48:51.543643Z",
          "shell.execute_reply": "2025-02-13T03:48:51.542592Z",
          "shell.execute_reply.started": "2025-02-13T03:48:32.946427Z"
        },
        "papermill": {
          "duration": null,
          "end_time": null,
          "exception": null,
          "start_time": null,
          "status": "pending"
        },
        "tags": [],
        "trusted": true,
        "id": "5fe1efcc",
        "outputId": "357165dd-b9c3-4423-e72b-87a9fa277da4"
      },
      "outputs": [
        {
          "name": "stdout",
          "output_type": "stream",
          "text": [
            "Response:   Velvet dresses are perfect for daytime goths, while fitted coats, leather gloves, or a chic monochrome outfit creates a sophisticated, elegant look.Gothic style focuses on rich, vibrant colors and layered designs. Choosing sleek fabrics and interesting accessories can make an outfit standout. Look for rich metallic or dark-purple patterns to elevate a classic gothy look, especially when leather or metallic accessories that enhance the dramatic effect.An example is the rusted crossbody suit of a velvet dress featuring intricate details like a metallic paintjob or an elaborate velvet clutch.Velvet dresses can also capture a dramatic aesthetic when styled in unique and stylish ways. They create an eye - catching contrast to modern ghoulish, dramatic contrast.Creating a glamorous, stylish effect that enhances the outfit.Understanding gourmet gaunt style. Goths strive to evoke a mysterious, mysterious elegance in their aesthetic. Investing a timeless elegance and refined and elegance, often involves incorporating classic elegance through sophisticated and sophisticated greek influenced aesthetic into modern\n"
          ]
        }
      ],
      "source": [
        "from transformers import AutoTokenizer, AutoModelForCausalLM\n",
        "\n",
        "def generate_response(prompt, model):\n",
        "    #codifica o prompt e adicionar o EOS token\n",
        "    bot_input_ids = tokenizer.encode(prompt + tokenizer.eos_token, return_tensors='pt')\n",
        "\n",
        "    #mascara de atenção\n",
        "    attention_mask = bot_input_ids.ne(tokenizer.pad_token_id).float()\n",
        "\n",
        "    #resposta\n",
        "    chat_history_ids = model.generate(\n",
        "        bot_input_ids,\n",
        "        attention_mask=attention_mask,\n",
        "        max_length=256,\n",
        "        pad_token_id=tokenizer.eos_token_id,\n",
        "        no_repeat_ngram_size=2,\n",
        "        do_sample=True,\n",
        "        top_k=50,\n",
        "        top_p=0.9,\n",
        "        temperature=0.7\n",
        "    )\n",
        "\n",
        "    #decodifica e retornar a resposta\n",
        "    response = tokenizer.decode(chat_history_ids[:, bot_input_ids.shape[-1]:][0], skip_special_tokens=True)\n",
        "    return response\n",
        "\n",
        "\n",
        "#prompt em inglês (já que o dataset era em ingles)\n",
        "prompt = \"The trendy goth style in today's fashion blends velvet dresses, fitted corsets, and leather jackets with modern touches like chunky platform boots and silver accessories.Can you recomend me a goth outfit where a dress will stand out!\"\n",
        "response = generate_response(prompt, model)\n",
        "print(\"Response: \", response)"
      ]
    }
  ],
  "metadata": {
    "accelerator": "GPU",
    "colab": {
      "gpuType": "T4",
      "provenance": []
    },
    "kaggle": {
      "accelerator": "nvidiaTeslaT4",
      "dataSources": [
        {
          "datasetId": 6630384,
          "sourceId": 10699421,
          "sourceType": "datasetVersion"
        },
        {
          "datasetId": 6641208,
          "sourceId": 10714495,
          "sourceType": "datasetVersion"
        },
        {
          "datasetId": 6656989,
          "sourceId": 10736241,
          "sourceType": "datasetVersion"
        }
      ],
      "dockerImageVersionId": 30887,
      "isGpuEnabled": true,
      "isInternetEnabled": true,
      "language": "python",
      "sourceType": "notebook"
    },
    "kernelspec": {
      "display_name": "Python 3",
      "language": "python",
      "name": "python3"
    },
    "language_info": {
      "codemirror_mode": {
        "name": "ipython",
        "version": 3
      },
      "file_extension": ".py",
      "mimetype": "text/x-python",
      "name": "python",
      "nbconvert_exporter": "python",
      "pygments_lexer": "ipython3",
      "version": "3.10.12"
    },
    "papermill": {
      "default_parameters": {},
      "duration": 210.930748,
      "end_time": "2025-02-10T05:35:56.110832",
      "environment_variables": {},
      "exception": true,
      "input_path": "__notebook__.ipynb",
      "output_path": "__notebook__.ipynb",
      "parameters": {},
      "start_time": "2025-02-10T05:32:25.180084",
      "version": "2.6.0"
    },
    "widgets": {
      "application/vnd.jupyter.widget-state+json": {}
    }
  },
  "nbformat": 4,
  "nbformat_minor": 5
}
