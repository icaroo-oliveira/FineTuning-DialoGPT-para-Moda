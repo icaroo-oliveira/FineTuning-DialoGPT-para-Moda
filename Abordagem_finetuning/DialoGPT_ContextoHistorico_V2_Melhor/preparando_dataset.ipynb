{
  "cells": [
    {
      "cell_type": "code",
      "execution_count": null,
      "id": "7c1d10cf",
      "metadata": {
        "execution": {
          "iopub.execute_input": "2025-02-10T05:32:33.242849Z",
          "iopub.status.busy": "2025-02-10T05:32:33.242585Z",
          "iopub.status.idle": "2025-02-10T05:32:37.094884Z",
          "shell.execute_reply": "2025-02-10T05:32:37.093803Z"
        },
        "papermill": {
          "duration": 3.859203,
          "end_time": "2025-02-10T05:32:37.096405",
          "exception": false,
          "start_time": "2025-02-10T05:32:33.237202",
          "status": "completed"
        },
        "tags": [],
        "id": "7c1d10cf"
      },
      "outputs": [],
      "source": [
        "!pip install nlpaug"
      ]
    },
    {
      "cell_type": "code",
      "execution_count": null,
      "id": "0f0ed57c",
      "metadata": {
        "execution": {
          "iopub.execute_input": "2025-02-10T05:33:14.047749Z",
          "iopub.status.busy": "2025-02-10T05:33:14.045468Z",
          "iopub.status.idle": "2025-02-10T05:33:14.072617Z",
          "shell.execute_reply": "2025-02-10T05:33:14.071886Z"
        },
        "id": "0f0ed57c",
        "papermill": {
          "duration": 0.034579,
          "end_time": "2025-02-10T05:33:14.073920",
          "exception": false,
          "start_time": "2025-02-10T05:33:14.039341",
          "status": "completed"
        },
        "tags": []
      },
      "outputs": [],
      "source": [
        "import json\n",
        "\n",
        "#treino\n",
        "f_train = open(\"/kaggle/input/modaaaa/moda.json\")\n",
        "data = json.load(f_train)\n",
        "f_train.close()\n"
      ]
    },
    {
      "cell_type": "code",
      "execution_count": null,
      "id": "1aadacc0",
      "metadata": {
        "execution": {
          "iopub.execute_input": "2025-02-10T05:33:14.084633Z",
          "iopub.status.busy": "2025-02-10T05:33:14.084380Z",
          "iopub.status.idle": "2025-02-10T05:33:14.088659Z",
          "shell.execute_reply": "2025-02-10T05:33:14.088012Z"
        },
        "papermill": {
          "duration": 0.011039,
          "end_time": "2025-02-10T05:33:14.089958",
          "exception": false,
          "start_time": "2025-02-10T05:33:14.078919",
          "status": "completed"
        },
        "tags": [],
        "id": "1aadacc0"
      },
      "outputs": [],
      "source": [
        "\n",
        "#criando dicionarios com o par pergunta e resposta\n",
        "data = [\n",
        "    {\n",
        "        # \"perguntaH\": pair[0],\n",
        "        \"respostaH\": pair[1],\n",
        "        \"context\": pair[2],\n",
        "        \"perguntaV\": pair[3],\n",
        "        \"respostaV\": pair[4]\n",
        "    }\n",
        "    for pair in data\n",
        "]\n"
      ]
    },
    {
      "cell_type": "code",
      "execution_count": null,
      "id": "c643204f",
      "metadata": {
        "execution": {
          "iopub.execute_input": "2025-02-10T05:33:14.100724Z",
          "iopub.status.busy": "2025-02-10T05:33:14.100456Z",
          "iopub.status.idle": "2025-02-10T05:33:14.106828Z",
          "shell.execute_reply": "2025-02-10T05:33:14.106117Z"
        },
        "id": "c643204f",
        "papermill": {
          "duration": 0.013095,
          "end_time": "2025-02-10T05:33:14.108033",
          "exception": false,
          "start_time": "2025-02-10T05:33:14.094938",
          "status": "completed"
        },
        "tags": []
      },
      "outputs": [],
      "source": [
        "import pandas as pd\n"
      ]
    },
    {
      "cell_type": "code",
      "execution_count": null,
      "id": "967bf7c3",
      "metadata": {
        "collapsed": true,
        "execution": {
          "iopub.execute_input": "2025-02-10T05:33:14.134441Z",
          "iopub.status.busy": "2025-02-10T05:33:14.134209Z",
          "iopub.status.idle": "2025-02-10T05:35:52.682080Z",
          "shell.execute_reply": "2025-02-10T05:35:52.681254Z"
        },
        "id": "967bf7c3",
        "jupyter": {
          "outputs_hidden": true
        },
        "papermill": {
          "duration": 158.554867,
          "end_time": "2025-02-10T05:35:52.683566",
          "exception": false,
          "start_time": "2025-02-10T05:33:14.128699",
          "status": "completed"
        },
        "tags": []
      },
      "outputs": [],
      "source": [
        "import nlpaug.augmenter.word as naw\n",
        "\n",
        "device = 'cuda'\n",
        "\n",
        "#augmentador contextual\n",
        "aug = naw.ContextualWordEmbsAug(\n",
        "    model_path='bert-base-uncased',\n",
        "    action=\"substitute\",\n",
        "    aug_p=0.1,\n",
        "    device=device  #gpu\n",
        ")\n",
        "\n",
        "cont = 0\n",
        "\n",
        "#aumento nos dados\n",
        "def augment_data(entry, augmenter):\n",
        "    global cont\n",
        "    cont += 1\n",
        "    print(f\"Processando entrada {cont}\")\n",
        "\n",
        "    return {\n",
        "        # \"perguntaH\": augmenter.augment(entry[\"perguntaH\"])[0],\n",
        "        \"respostaH\": augmenter.augment(entry[\"respostaH\"])[0],\n",
        "        \"context\": augmenter.augment(entry[\"context\"])[0],\n",
        "        \"perguntaV\": augmenter.augment(entry[\"perguntaV\"])[0],\n",
        "        \"respostaV\": augmenter.augment(entry[\"respostaV\"])[0]\n",
        "    }\n",
        "\n",
        "\n",
        "\n",
        "augmented_data = [augment_data(entry, aug) for entry in data]\n",
        "\n",
        "#adicionando os dados\n",
        "data.extend(augmented_data)\n"
      ]
    },
    {
      "cell_type": "code",
      "execution_count": null,
      "id": "8e567369",
      "metadata": {
        "execution": {
          "iopub.execute_input": "2025-02-10T05:35:52.739270Z",
          "iopub.status.busy": "2025-02-10T05:35:52.738540Z",
          "iopub.status.idle": "2025-02-10T05:35:52.765766Z",
          "shell.execute_reply": "2025-02-10T05:35:52.765082Z"
        },
        "papermill": {
          "duration": 0.055914,
          "end_time": "2025-02-10T05:35:52.766869",
          "exception": false,
          "start_time": "2025-02-10T05:35:52.710955",
          "status": "completed"
        },
        "tags": [],
        "id": "8e567369"
      },
      "outputs": [],
      "source": [
        "# columns = ['perguntaH','respostaH','context', 'perguntaV', 'respostaV']\n",
        "columns = ['respostaH','context', 'perguntaV', 'respostaV']\n",
        "\n",
        "df = pd.DataFrame.from_records(data, columns=columns)\n",
        "\n",
        "df.tail()"
      ]
    },
    {
      "cell_type": "code",
      "execution_count": null,
      "id": "48bbda20",
      "metadata": {
        "execution": {
          "iopub.execute_input": "2025-02-10T05:35:52.821125Z",
          "iopub.status.busy": "2025-02-10T05:35:52.820904Z",
          "iopub.status.idle": "2025-02-10T05:35:52.995766Z",
          "shell.execute_reply": "2025-02-10T05:35:52.994673Z"
        },
        "papermill": {
          "duration": 0.203202,
          "end_time": "2025-02-10T05:35:52.996954",
          "exception": true,
          "start_time": "2025-02-10T05:35:52.793752",
          "status": "failed"
        },
        "tags": [],
        "id": "48bbda20"
      },
      "outputs": [],
      "source": [
        "df.to_csv(\"/kaggle/input/modaaaa/dados_moda.csv\", index=False)\n"
      ]
    }
  ],
  "metadata": {
    "accelerator": "GPU",
    "colab": {
      "gpuType": "T4",
      "provenance": []
    },
    "kaggle": {
      "accelerator": "nvidiaTeslaT4",
      "dataSources": [
        {
          "datasetId": 6630384,
          "sourceId": 10699421,
          "sourceType": "datasetVersion"
        }
      ],
      "dockerImageVersionId": 30887,
      "isGpuEnabled": true,
      "isInternetEnabled": true,
      "language": "python",
      "sourceType": "notebook"
    },
    "kernelspec": {
      "display_name": "Python 3",
      "language": "python",
      "name": "python3"
    },
    "language_info": {
      "codemirror_mode": {
        "name": "ipython",
        "version": 3
      },
      "file_extension": ".py",
      "mimetype": "text/x-python",
      "name": "python",
      "nbconvert_exporter": "python",
      "pygments_lexer": "ipython3",
      "version": "3.10.12"
    },
    "papermill": {
      "default_parameters": {},
      "duration": 210.930748,
      "end_time": "2025-02-10T05:35:56.110832",
      "environment_variables": {},
      "exception": true,
      "input_path": "__notebook__.ipynb",
      "output_path": "__notebook__.ipynb",
      "parameters": {},
      "start_time": "2025-02-10T05:32:25.180084",
      "version": "2.6.0"
    }
  },
  "nbformat": 4,
  "nbformat_minor": 5
}